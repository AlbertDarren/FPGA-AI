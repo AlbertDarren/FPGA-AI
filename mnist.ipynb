{
 "cells": [
  {
   "cell_type": "code",
   "execution_count": 1,
   "id": "28e6c32d",
   "metadata": {
    "collapsed": true,
    "jupyter": {
     "outputs_hidden": true
    }
   },
   "outputs": [],
   "source": [
    "import torch\n",
    "import torch.nn as nn\n",
    "from torchsummary import summary\n",
    "from torchvision import transforms\n",
    "from torch.utils.data import DataLoader\n",
    "from torchvision.datasets import MNIST\n",
    "from torch.utils.tensorboard import SummaryWriter\n",
    "import matplotlib.pyplot as plt"
   ]
  },
  {
   "cell_type": "markdown",
   "id": "8ec1b585",
   "metadata": {},
   "source": [
    "# 定义计算设备和超参数"
   ]
  },
  {
   "cell_type": "code",
   "execution_count": 4,
   "id": "b161acff",
   "metadata": {
    "collapsed": true,
    "jupyter": {
     "outputs_hidden": true
    }
   },
   "outputs": [],
   "source": [
    "# 定义计算设备\n",
    "device=torch.device(\"cuda\" if torch.cuda.is_available() else \"cpu\")"
   ]
  },
  {
   "cell_type": "code",
   "execution_count": 5,
   "id": "d127345a",
   "metadata": {
    "collapsed": true,
    "jupyter": {
     "outputs_hidden": true
    }
   },
   "outputs": [],
   "source": [
    "# 定义超参数\n",
    "learning_rate=0.001\n",
    "num_classes=10\n",
    "batch_size=64\n",
    "num_epochs=20"
   ]
  },
  {
   "cell_type": "markdown",
   "id": "2ea746b1",
   "metadata": {},
   "source": [
    "# 准备MNIST数据集"
   ]
  },
  {
   "cell_type": "code",
   "execution_count": 4,
   "id": "a5746523",
   "metadata": {
    "collapsed": true,
    "jupyter": {
     "outputs_hidden": true
    }
   },
   "outputs": [],
   "source": [
    "# 注意root参数表示存在MNIST/processed/training.pt和MNIST/processed/test.pt的子目录的根目录\n",
    "# 训练数据集\n",
    "train_dataset=MNIST(root=\"/dataset/train/\",\n",
    "                   train=True,\n",
    "                   transform=transforms.Compose([\n",
    "                       transforms.Resize(size=(28,28)),\n",
    "                       transforms.ToTensor()\n",
    "                   ]))\n",
    "# 测试数据集\n",
    "test_dataset=MNIST(root=\"/dataset/train\",\n",
    "                   train=False,\n",
    "                   transform=transforms.Compose([\n",
    "                       transforms.Resize(size=(28,28)),\n",
    "                       transforms.ToTensor()\n",
    "                   ]))"
   ]
  },
  {
   "cell_type": "code",
   "execution_count": 5,
   "id": "945ff8a4",
   "metadata": {
    "collapsed": true,
    "jupyter": {
     "outputs_hidden": true
    }
   },
   "outputs": [
    {
     "name": "stdout",
     "output_type": "stream",
     "text": [
      "The size of train/test dataset is 60000/10000.\n"
     ]
    }
   ],
   "source": [
    "# 数据探索\n",
    "train_dataset_size = len(train_dataset)\n",
    "test_dataset_size = len(test_dataset)\n",
    "print(\"The size of train/test dataset is {}/{}.\".format(train_dataset_size,test_dataset_size))"
   ]
  },
  {
   "cell_type": "markdown",
   "id": "9fd9c2f1",
   "metadata": {},
   "source": [
    "# 定义DataLoader"
   ]
  },
  {
   "cell_type": "code",
   "execution_count": 6,
   "id": "77c63044",
   "metadata": {
    "collapsed": true,
    "jupyter": {
     "outputs_hidden": true
    }
   },
   "outputs": [],
   "source": [
    "# 定义数据集加载器\n",
    "train_loader=DataLoader(dataset=train_dataset,\n",
    "                        batch_size=batch_size,\n",
    "                        shuffle=True)\n",
    "test_loader=DataLoader(dataset=test_dataset,\n",
    "                        batch_size=batch_size,\n",
    "                        shuffle=True)"
   ]
  },
  {
   "cell_type": "code",
   "execution_count": 7,
   "id": "381e2702",
   "metadata": {
    "collapsed": true,
    "jupyter": {
     "outputs_hidden": true
    }
   },
   "outputs": [
    {
     "name": "stdout",
     "output_type": "stream",
     "text": [
      "938 157\n"
     ]
    }
   ],
   "source": [
    "print(len(train_loader),len(test_loader))"
   ]
  },
  {
   "cell_type": "code",
   "execution_count": 8,
   "id": "2d0a84cb",
   "metadata": {
    "collapsed": true,
    "jupyter": {
     "outputs_hidden": true
    }
   },
   "outputs": [
    {
     "name": "stdout",
     "output_type": "stream",
     "text": [
      "937 156\n"
     ]
    }
   ],
   "source": [
    "print(len(train_dataset)//batch_size,len(test_dataset)//batch_size)"
   ]
  },
  {
   "cell_type": "code",
   "execution_count": 9,
   "id": "0595cbea",
   "metadata": {
    "collapsed": true,
    "jupyter": {
     "outputs_hidden": true
    }
   },
   "outputs": [
    {
     "data": {
      "text/plain": [
       "[tensor([[[[0., 0., 0.,  ..., 0., 0., 0.],\n",
       "           [0., 0., 0.,  ..., 0., 0., 0.],\n",
       "           [0., 0., 0.,  ..., 0., 0., 0.],\n",
       "           ...,\n",
       "           [0., 0., 0.,  ..., 0., 0., 0.],\n",
       "           [0., 0., 0.,  ..., 0., 0., 0.],\n",
       "           [0., 0., 0.,  ..., 0., 0., 0.]]],\n",
       " \n",
       " \n",
       "         [[[0., 0., 0.,  ..., 0., 0., 0.],\n",
       "           [0., 0., 0.,  ..., 0., 0., 0.],\n",
       "           [0., 0., 0.,  ..., 0., 0., 0.],\n",
       "           ...,\n",
       "           [0., 0., 0.,  ..., 0., 0., 0.],\n",
       "           [0., 0., 0.,  ..., 0., 0., 0.],\n",
       "           [0., 0., 0.,  ..., 0., 0., 0.]]],\n",
       " \n",
       " \n",
       "         [[[0., 0., 0.,  ..., 0., 0., 0.],\n",
       "           [0., 0., 0.,  ..., 0., 0., 0.],\n",
       "           [0., 0., 0.,  ..., 0., 0., 0.],\n",
       "           ...,\n",
       "           [0., 0., 0.,  ..., 0., 0., 0.],\n",
       "           [0., 0., 0.,  ..., 0., 0., 0.],\n",
       "           [0., 0., 0.,  ..., 0., 0., 0.]]],\n",
       " \n",
       " \n",
       "         ...,\n",
       " \n",
       " \n",
       "         [[[0., 0., 0.,  ..., 0., 0., 0.],\n",
       "           [0., 0., 0.,  ..., 0., 0., 0.],\n",
       "           [0., 0., 0.,  ..., 0., 0., 0.],\n",
       "           ...,\n",
       "           [0., 0., 0.,  ..., 0., 0., 0.],\n",
       "           [0., 0., 0.,  ..., 0., 0., 0.],\n",
       "           [0., 0., 0.,  ..., 0., 0., 0.]]],\n",
       " \n",
       " \n",
       "         [[[0., 0., 0.,  ..., 0., 0., 0.],\n",
       "           [0., 0., 0.,  ..., 0., 0., 0.],\n",
       "           [0., 0., 0.,  ..., 0., 0., 0.],\n",
       "           ...,\n",
       "           [0., 0., 0.,  ..., 0., 0., 0.],\n",
       "           [0., 0., 0.,  ..., 0., 0., 0.],\n",
       "           [0., 0., 0.,  ..., 0., 0., 0.]]],\n",
       " \n",
       " \n",
       "         [[[0., 0., 0.,  ..., 0., 0., 0.],\n",
       "           [0., 0., 0.,  ..., 0., 0., 0.],\n",
       "           [0., 0., 0.,  ..., 0., 0., 0.],\n",
       "           ...,\n",
       "           [0., 0., 0.,  ..., 0., 0., 0.],\n",
       "           [0., 0., 0.,  ..., 0., 0., 0.],\n",
       "           [0., 0., 0.,  ..., 0., 0., 0.]]]]),\n",
       " tensor([8, 3, 5, 9, 5, 6, 9, 4, 3, 9, 6, 5, 8, 6, 6, 3, 7, 0, 3, 9, 0, 5, 0, 0,\n",
       "         3, 0, 6, 4, 9, 7, 8, 3, 3, 4, 1, 7, 7, 3, 9, 5, 4, 7, 7, 0, 1, 0, 5, 5,\n",
       "         9, 1, 0, 4, 3, 5, 0, 9, 4, 8, 1, 3, 3, 6, 1, 1])]"
      ]
     },
     "execution_count": 9,
     "metadata": {},
     "output_type": "execute_result"
    }
   ],
   "source": [
    "# 查看第一次采样结果\n",
    "train_loader.__iter__().next()"
   ]
  },
  {
   "cell_type": "code",
   "execution_count": 10,
   "id": "2465036b",
   "metadata": {
    "collapsed": true,
    "jupyter": {
     "outputs_hidden": true
    }
   },
   "outputs": [],
   "source": [
    "images,labels=next(iter(train_loader))"
   ]
  },
  {
   "cell_type": "code",
   "execution_count": 11,
   "id": "a4ae91bb",
   "metadata": {
    "collapsed": true,
    "jupyter": {
     "outputs_hidden": true
    }
   },
   "outputs": [
    {
     "data": {
      "text/plain": [
       "torch.Size([64, 1, 28, 28])"
      ]
     },
     "execution_count": 11,
     "metadata": {},
     "output_type": "execute_result"
    }
   ],
   "source": [
    "images.shape"
   ]
  },
  {
   "cell_type": "code",
   "execution_count": 12,
   "id": "6016c411",
   "metadata": {
    "collapsed": true,
    "jupyter": {
     "outputs_hidden": true
    }
   },
   "outputs": [
    {
     "data": {
      "text/plain": [
       "torch.Size([64])"
      ]
     },
     "execution_count": 12,
     "metadata": {},
     "output_type": "execute_result"
    }
   ],
   "source": [
    "labels.shape"
   ]
  },
  {
   "cell_type": "markdown",
   "id": "2f33027f",
   "metadata": {},
   "source": [
    "# 显示部分手写体数字图片"
   ]
  },
  {
   "cell_type": "code",
   "execution_count": 13,
   "id": "7d41a5ba",
   "metadata": {
    "collapsed": true,
    "jupyter": {
     "outputs_hidden": true
    }
   },
   "outputs": [
    {
     "data": {
      "image/png": "[encoded data removed]",
      "text/plain": [
       "<Figure size 720x720 with 9 Axes>"
      ]
     },
     "metadata": {
      "needs_background": "light"
     },
     "output_type": "display_data"
    }
   ],
   "source": [
    "# 显示9张手写数字图片\n",
    "plt.figure(figsize=(10,10))\n",
    "index=0\n",
    "for img,target in zip(images[:9],labels[:9]):\n",
    "    index+=1\n",
    "    plt.subplot(3,3,index)\n",
    "    plt.title(\"label:{}\".format(target))\n",
    "    plt.imshow(img.permute(1,2,0),cmap=\"gray\")"
   ]
  },
  {
   "cell_type": "code",
   "execution_count": 14,
   "id": "d531e088",
   "metadata": {
    "collapsed": true,
    "jupyter": {
     "outputs_hidden": true
    }
   },
   "outputs": [
    {
     "data": {
      "text/plain": [
       "784"
      ]
     },
     "execution_count": 14,
     "metadata": {},
     "output_type": "execute_result"
    }
   ],
   "source": [
    "images[0].numel()"
   ]
  },
  {
   "cell_type": "markdown",
   "id": "ce5030c6",
   "metadata": {},
   "source": [
    "# 将数据集参数提取为C/C++头文件"
   ]
  },
  {
   "cell_type": "code",
   "execution_count": 15,
   "id": "fc4280c0",
   "metadata": {
    "collapsed": true,
    "jupyter": {
     "outputs_hidden": true
    }
   },
   "outputs": [],
   "source": [
    "# 将手写体图像转换为一维数组存储在.h文件中\n",
    "for im,lab in zip(images,labels):\n",
    "    length=im.numel()\n",
    "    im=str(im.tolist())\n",
    "    im=im.replace(\"[\",\"\")\n",
    "    im=im.replace(\"]\",\"\")\n",
    "    with open(\"input_{}.h\".format(lab),\"w\") as fw:\n",
    "        fw.write(\"double input_{}[{}] = {{{}}};\\n\".format(lab,length,im))# 三个嵌套大括号表示输出一个大括号"
   ]
  },
  {
   "cell_type": "markdown",
   "id": "b2b00234",
   "metadata": {},
   "source": [
    "# 定义两层的神经网络"
   ]
  },
  {
   "cell_type": "code",
   "execution_count": 2,
   "id": "a1751fd1",
   "metadata": {
    "collapsed": true,
    "jupyter": {
     "outputs_hidden": true
    }
   },
   "outputs": [],
   "source": [
    "class TwoLayer(nn.Module):\n",
    "    def __init__(self,num_classes):\n",
    "        super(TwoLayer,self).__init__()\n",
    "        self.num_classes=num_classes\n",
    "        self.fc1=nn.Linear(784,64)\n",
    "        self.fc2=nn.Linear(64,num_classes)\n",
    "        self.elu=nn.ELU()\n",
    "    def forward(self,x):\n",
    "        x=x.view(x.size(0),-1)\n",
    "        x=self.fc1(x)\n",
    "        x=self.elu(x)\n",
    "        x=self.fc2(x)\n",
    "        return x"
   ]
  },
  {
   "cell_type": "code",
   "execution_count": 17,
   "id": "0e3814b4",
   "metadata": {
    "collapsed": true,
    "jupyter": {
     "outputs_hidden": true
    }
   },
   "outputs": [],
   "source": [
    "model=TwoLayer(num_classes)"
   ]
  },
  {
   "cell_type": "code",
   "execution_count": 18,
   "id": "557dbb09",
   "metadata": {
    "collapsed": true,
    "jupyter": {
     "outputs_hidden": true
    }
   },
   "outputs": [],
   "source": [
    "model=model.to(device)"
   ]
  },
  {
   "cell_type": "markdown",
   "id": "48617b2f",
   "metadata": {},
   "source": [
    "# 查看模型结构和参数"
   ]
  },
  {
   "cell_type": "code",
   "execution_count": 19,
   "id": "1a70f168",
   "metadata": {
    "collapsed": true,
    "jupyter": {
     "outputs_hidden": true
    }
   },
   "outputs": [
    {
     "data": {
      "text/plain": [
       "TwoLayer(\n",
       "  (fc1): Linear(in_features=784, out_features=64, bias=True)\n",
       "  (fc2): Linear(in_features=64, out_features=10, bias=True)\n",
       "  (elu): ELU(alpha=1.0)\n",
       ")"
      ]
     },
     "execution_count": 19,
     "metadata": {},
     "output_type": "execute_result"
    }
   ],
   "source": [
    "model"
   ]
  },
  {
   "cell_type": "code",
   "execution_count": 20,
   "id": "daac4605",
   "metadata": {
    "collapsed": true,
    "jupyter": {
     "outputs_hidden": true
    }
   },
   "outputs": [
    {
     "name": "stdout",
     "output_type": "stream",
     "text": [
      "----------------------------------------------------------------\n",
      "        Layer (type)               Output Shape         Param #\n",
      "================================================================\n",
      "            Linear-1                   [-1, 64]          50,240\n",
      "               ELU-2                   [-1, 64]               0\n",
      "            Linear-3                   [-1, 10]             650\n",
      "================================================================\n",
      "Total params: 50,890\n",
      "Trainable params: 50,890\n",
      "Non-trainable params: 0\n",
      "----------------------------------------------------------------\n",
      "Input size (MB): 0.00\n",
      "Forward/backward pass size (MB): 0.00\n",
      "Params size (MB): 0.19\n",
      "Estimated Total Size (MB): 0.20\n",
      "----------------------------------------------------------------\n"
     ]
    }
   ],
   "source": [
    "summary(model,input_size=(1,28,28))"
   ]
  },
  {
   "cell_type": "markdown",
   "id": "c0eb4dce",
   "metadata": {},
   "source": [
    "# 训练模型"
   ]
  },
  {
   "cell_type": "code",
   "execution_count": 21,
   "id": "ef83ad90",
   "metadata": {
    "collapsed": true,
    "jupyter": {
     "outputs_hidden": true
    }
   },
   "outputs": [],
   "source": [
    "# 定义损失函数\n",
    "loss_function=nn.CrossEntropyLoss()\n",
    "# 定义优化器\n",
    "optimizer=torch.optim.Adam(model.parameters(),lr=learning_rate)"
   ]
  },
  {
   "cell_type": "code",
   "execution_count": 22,
   "id": "091276da",
   "metadata": {
    "collapsed": true,
    "jupyter": {
     "outputs_hidden": true
    }
   },
   "outputs": [],
   "source": [
    "# 事件写入对象\n",
    "writer = SummaryWriter(log_dir=\"model_logs\")"
   ]
  },
  {
   "cell_type": "code",
   "execution_count": 23,
   "id": "3e643c60",
   "metadata": {
    "collapsed": true,
    "jupyter": {
     "outputs_hidden": true
    }
   },
   "outputs": [
    {
     "name": "stdout",
     "output_type": "stream",
     "text": [
      "第1轮训练开始....\n",
      "模型保存成功！\n",
      "第2轮训练开始....\n",
      "模型保存成功！\n",
      "第3轮训练开始....\n",
      "模型保存成功！\n",
      "第4轮训练开始....\n",
      "模型保存成功！\n",
      "第5轮训练开始....\n",
      "模型保存成功！\n",
      "第6轮训练开始....\n",
      "模型保存成功！\n",
      "第7轮训练开始....\n",
      "模型保存成功！\n",
      "第8轮训练开始....\n",
      "模型保存成功！\n",
      "第9轮训练开始....\n",
      "模型保存成功！\n",
      "第10轮训练开始....\n",
      "模型保存成功！\n",
      "第11轮训练开始....\n",
      "模型保存成功！\n",
      "第12轮训练开始....\n",
      "模型保存成功！\n",
      "第13轮训练开始....\n",
      "模型保存成功！\n",
      "第14轮训练开始....\n",
      "模型保存成功！\n",
      "第15轮训练开始....\n",
      "模型保存成功！\n",
      "第16轮训练开始....\n",
      "模型保存成功！\n",
      "第17轮训练开始....\n",
      "模型保存成功！\n",
      "第18轮训练开始....\n",
      "模型保存成功！\n",
      "第19轮训练开始....\n",
      "模型保存成功！\n",
      "第20轮训练开始....\n",
      "模型保存成功！\n"
     ]
    }
   ],
   "source": [
    "# 开始训练\n",
    "for epoch in range(num_epochs):\n",
    "    print(\"第{}轮训练开始....\".format(epoch + 1))\n",
    "    total_train_acc = 0\n",
    "    total_test_acc = 0\n",
    "    # 训练步骤开始\n",
    "    model.train()\n",
    "    for imgs,targets in train_loader:\n",
    "        # 将训练数据样本及其标签迁移到运算设备\n",
    "        imgs=imgs.to(device)\n",
    "        targets=targets.to(device)\n",
    "        # 将神经网络全部参数梯度清零\n",
    "        optimizer.zero_grad()\n",
    "        # 前向传播\n",
    "        outputs=model(imgs)\n",
    "        total_train_acc += (outputs.argmax(dim=1) == targets).sum().item()\n",
    "        loss=loss_function(outputs,targets)\n",
    "        # 反向传播\n",
    "        loss.backward()\n",
    "        # 更新梯度\n",
    "        optimizer.step()\n",
    "    # 测试步骤开始\n",
    "    model.eval()\n",
    "    with torch.no_grad():\n",
    "        for imgs,targets in test_loader:\n",
    "            # 将测试数据样本及其标签迁移到运算设备\n",
    "            imgs=imgs.to(device)\n",
    "            targets=targets.to(device)  \n",
    "            outputs=model(imgs)\n",
    "            total_test_acc += (outputs.argmax(dim=1) == targets).sum().item()\n",
    "    writer.add_scalars(\"ACC\",{\"train acc\":total_train_acc/train_dataset_size,\n",
    "                              \"test acc\":total_test_acc / test_dataset_size},epoch+1)\n",
    "    torch.save(model.state_dict(), \"models/model_epoch{}.pth\".format(epoch + 1))\n",
    "    print(\"模型保存成功！\")"
   ]
  },
  {
   "cell_type": "code",
   "execution_count": 26,
   "id": "d40f2b41",
   "metadata": {
    "collapsed": true,
    "jupyter": {
     "outputs_hidden": true
    }
   },
   "outputs": [
    {
     "data": {
      "text/html": [
       "\n",
       "      <iframe id=\"tensorboard-frame-5e271b560a4d12d4\" width=\"100%\" height=\"800\" frameborder=\"0\">\n",
       "      </iframe>\n",
       "      <script>\n",
       "        (function() {\n",
       "          const frame = document.getElementById(\"tensorboard-frame-5e271b560a4d12d4\");\n",
       "          const url = new URL(\"/\", window.location);\n",
       "          const port = 8888;\n",
       "          if (port) {\n",
       "            url.port = port;\n",
       "          }\n",
       "          frame.src = url;\n",
       "        })();\n",
       "      </script>\n",
       "    "
      ],
      "text/plain": [
       "<IPython.core.display.HTML object>"
      ]
     },
     "metadata": {},
     "output_type": "display_data"
    }
   ],
   "source": [
    "# Load the TensorBoard notebook extension\n",
    "%reload_ext tensorboard\n",
    "logs_dir = 'model_logs/'\n",
    "%tensorboard --logdir logs_dir"
   ]
  },
  {
   "cell_type": "code",
   "execution_count": 25,
   "id": "cf17862c",
   "metadata": {
    "collapsed": true,
    "jupyter": {
     "outputs_hidden": true
    }
   },
   "outputs": [],
   "source": [
    "# 关闭事件写入对象\n",
    "writer.close()"
   ]
  },
  {
   "cell_type": "markdown",
   "id": "622bb103",
   "metadata": {},
   "source": [
    "# 模型验证"
   ]
  },
  {
   "cell_type": "code",
   "execution_count": 7,
   "id": "388f89f1",
   "metadata": {
    "collapsed": true,
    "jupyter": {
     "outputs_hidden": true
    }
   },
   "outputs": [],
   "source": [
    "# 创建一个神经网络实例并迁移到device上面\n",
    "best_model=TwoLayer(num_classes)\n",
    "best_model=best_model.to(device)"
   ]
  },
  {
   "cell_type": "code",
   "execution_count": 8,
   "id": "f84fb8d5",
   "metadata": {
    "collapsed": true,
    "jupyter": {
     "outputs_hidden": true
    }
   },
   "outputs": [
    {
     "data": {
      "text/plain": [
       "<All keys matched successfully>"
      ]
     },
     "execution_count": 8,
     "metadata": {},
     "output_type": "execute_result"
    }
   ],
   "source": [
    "# 将第15轮训练好的参数加载到神经网络中\n",
    "best_model.load_state_dict(torch.load(\"models/model_epoch15.pth\"))"
   ]
  },
  {
   "cell_type": "code",
   "execution_count": 9,
   "id": "0734b6dd",
   "metadata": {
    "collapsed": true,
    "jupyter": {
     "outputs_hidden": true
    }
   },
   "outputs": [
    {
     "data": {
      "text/plain": [
       "TwoLayer(\n",
       "  (fc1): Linear(in_features=784, out_features=64, bias=True)\n",
       "  (fc2): Linear(in_features=64, out_features=10, bias=True)\n",
       "  (elu): ELU(alpha=1.0)\n",
       ")"
      ]
     },
     "execution_count": 9,
     "metadata": {},
     "output_type": "execute_result"
    }
   ],
   "source": [
    "# 查看神经网络结构\n",
    "best_model"
   ]
  },
  {
   "cell_type": "code",
   "execution_count": 13,
   "id": "4061d469",
   "metadata": {
    "collapsed": true,
    "jupyter": {
     "outputs_hidden": true
    }
   },
   "outputs": [
    {
     "data": {
      "text/plain": [
       "OrderedDict([('fc1.weight',\n",
       "              tensor([[ 0.0178,  0.0287, -0.0187,  ...,  0.0194, -0.0052, -0.0057],\n",
       "                      [-0.0235, -0.0194,  0.0319,  ...,  0.0261,  0.0152, -0.0233],\n",
       "                      [-0.0305,  0.0227, -0.0342,  ...,  0.0221, -0.0182,  0.0337],\n",
       "                      ...,\n",
       "                      [ 0.0119,  0.0035, -0.0068,  ...,  0.0071,  0.0264,  0.0188],\n",
       "                      [ 0.0082, -0.0258, -0.0171,  ...,  0.0027,  0.0207, -0.0112],\n",
       "                      [-0.0096,  0.0233,  0.0208,  ...,  0.0128,  0.0138, -0.0294]],\n",
       "                     device='cuda:0')),\n",
       "             ('fc1.bias',\n",
       "              tensor([ 0.0645,  0.0657, -0.4509,  0.0308, -0.1290, -0.1913,  0.1621,  0.2732,\n",
       "                       0.0875, -0.3909,  0.0919, -0.1450, -0.1341,  0.0322, -0.1189, -0.0927,\n",
       "                      -0.1239,  0.1298,  0.3445,  0.1973, -0.2774, -0.1639,  0.3863, -0.0664,\n",
       "                       0.2876,  0.2047, -0.3421,  0.4779, -0.0565,  0.0490,  0.3046, -0.2873,\n",
       "                      -0.2447, -0.1577,  0.1927,  0.2070, -0.1906,  0.1341,  0.3666, -0.2829,\n",
       "                       0.1180,  0.1624, -0.1195,  0.2131,  0.0904, -0.2094, -0.1996, -0.2258,\n",
       "                      -0.2048,  0.0067, -0.1847, -0.0856,  0.0027, -0.1801,  0.2716, -0.0302,\n",
       "                       0.0830,  0.0073, -0.1085,  0.1555,  0.0806, -0.0302,  0.2447, -0.0890],\n",
       "                     device='cuda:0')),\n",
       "             ('fc2.weight',\n",
       "              tensor([[-3.2873e-01,  1.4542e-01,  1.9585e-01,  9.3548e-02, -3.9231e-01,\n",
       "                        1.7116e-01, -7.6063e-02, -6.6612e-01, -1.3418e-01,  2.3634e-01,\n",
       "                       -6.2801e-01,  2.5581e-01,  1.8382e-01, -4.7878e-01, -1.5281e-01,\n",
       "                       -5.0176e-01,  1.2565e-01, -2.7710e-01,  2.5513e-01,  5.3579e-01,\n",
       "                        1.4911e-01,  5.1501e-01,  9.0224e-02,  1.8102e-02, -1.2033e+00,\n",
       "                       -1.1005e+00,  3.0478e-01, -2.8709e-01, -5.0885e-02,  3.1815e-01,\n",
       "                        5.2992e-01,  2.9806e-01, -1.1646e+00,  1.4703e-01, -1.4537e-01,\n",
       "                        2.7605e-01,  2.5303e-01,  6.3442e-02, -1.7377e-01,  3.7126e-01,\n",
       "                       -6.2891e-01, -3.4709e-01,  1.7149e-01, -5.2413e-01,  2.9267e-03,\n",
       "                       -1.5034e-01, -2.8397e-02,  4.0937e-01,  4.2755e-01,  9.9359e-02,\n",
       "                       -3.2787e-02, -7.2241e-03, -2.7151e-01, -3.3350e-01, -2.2389e-02,\n",
       "                        6.8319e-02, -1.0148e-01, -6.1237e-01,  9.4524e-02,  9.3593e-02,\n",
       "                       -6.6560e-03, -2.5491e-01, -3.6687e-01, -4.4747e-01],\n",
       "                      [ 1.7764e-01,  2.9498e-01, -6.4287e-01, -1.4300e-01,  4.3904e-01,\n",
       "                       -6.0318e-01, -1.5649e-01,  7.9419e-01,  1.5559e-01, -7.2450e-01,\n",
       "                       -3.4049e-01, -5.0671e-01,  1.8624e-01, -2.7707e-01, -1.6296e-01,\n",
       "                       -2.9799e-01, -2.6495e-03,  1.5730e-01, -3.7608e-01,  2.7349e-01,\n",
       "                       -1.6721e-02,  1.6440e-01,  4.5187e-01, -1.0053e-01,  2.1370e-01,\n",
       "                        7.3691e-02,  4.3443e-02,  3.1317e-01, -5.1085e-01,  1.0571e-01,\n",
       "                        6.4636e-01, -2.3957e-01,  7.1024e-02, -2.4789e-02,  7.7823e-01,\n",
       "                       -2.6178e-01,  2.4744e-01, -1.8072e-01,  8.2166e-02, -6.8748e-01,\n",
       "                        5.1931e-02, -6.3001e-01,  1.1073e-01,  7.6199e-01, -8.1195e-01,\n",
       "                       -1.0422e-01,  1.1270e-01,  5.2501e-01, -6.3074e-01,  2.0054e-01,\n",
       "                       -9.9085e-01, -6.8180e-02,  2.4452e-01,  5.4671e-01,  2.9258e-01,\n",
       "                       -1.7784e-01,  4.7128e-01,  1.4141e-01, -5.3936e-01, -1.2501e-01,\n",
       "                       -4.9540e-01,  1.2959e-01,  2.6926e-01,  1.7753e-01],\n",
       "                      [ 3.3615e-01,  3.6794e-01, -2.1197e-01,  4.8494e-01,  5.3516e-01,\n",
       "                       -7.1269e-02, -3.2215e-01, -1.8745e-01, -2.1492e-01, -2.2151e-01,\n",
       "                       -4.5888e-01,  2.1627e-01,  1.2476e-01,  2.8866e-01,  4.3240e-02,\n",
       "                        1.6829e-01, -1.4587e-01,  4.9133e-01, -6.3486e-02,  3.0711e-01,\n",
       "                       -1.3261e+00,  2.5911e-01,  2.0539e-01, -7.2563e-01, -8.8864e-02,\n",
       "                        8.0941e-02,  3.6763e-01,  3.6715e-01,  8.2529e-02, -3.5599e-02,\n",
       "                       -7.6445e-02, -2.7067e-01, -2.0776e-01,  5.6177e-02,  3.8221e-01,\n",
       "                       -6.4885e-01,  3.6053e-01,  2.0457e-01,  4.0774e-01,  4.2271e-02,\n",
       "                       -2.4355e-01, -2.2784e-01,  2.0457e-01,  4.0953e-01,  5.0451e-01,\n",
       "                        5.7754e-02, -1.9610e-01,  3.6673e-01,  3.9790e-01,  1.5432e-01,\n",
       "                        6.3120e-03, -3.5280e-02, -6.5674e-01, -3.1550e-01,  8.5293e-02,\n",
       "                       -1.1078e-01,  3.0834e-01,  6.7486e-01,  3.4464e-01, -8.0002e-01,\n",
       "                       -1.1592e-01,  3.1752e-01, -9.3861e-01,  1.7884e-01],\n",
       "                      [-2.4462e-01,  5.5316e-02, -3.4174e-02,  3.6137e-01,  3.8901e-01,\n",
       "                        8.7821e-02, -8.1419e-01, -6.2757e-01, -6.5992e-01,  2.3877e-01,\n",
       "                        2.2676e-01,  5.4529e-02,  5.3075e-01,  3.3710e-01,  1.7676e-01,\n",
       "                        8.5473e-02, -2.7979e-01,  2.9282e-01, -5.8882e-02, -2.5838e-01,\n",
       "                        2.7391e-01, -2.3492e-01, -8.1990e-02,  2.5677e-01,  3.8174e-01,\n",
       "                        1.3859e-01, -5.4018e-02, -2.4115e-01, -6.7491e-01, -9.4739e-01,\n",
       "                        4.0431e-02,  3.8176e-02,  1.6286e-01,  1.8363e-01, -6.1726e-01,\n",
       "                       -1.7778e-01, -7.6322e-01, -2.2737e-01, -7.3415e-01, -2.9451e-01,\n",
       "                        2.1882e-01,  6.3571e-01,  2.2056e-01,  1.0553e-01, -6.1322e-03,\n",
       "                        4.0994e-02,  2.6272e-01,  1.0448e-01,  1.3366e-01, -5.2152e-01,\n",
       "                       -1.2978e-01, -7.1226e-02, -1.6135e-01,  5.1358e-01,  5.7765e-01,\n",
       "                        4.1851e-01, -3.7172e-02, -2.4685e-01,  2.0610e-01,  5.8088e-01,\n",
       "                       -9.6452e-04,  3.5968e-01, -5.8980e-01, -1.8016e-02],\n",
       "                      [-3.1988e-02,  2.5065e-01,  1.9388e-01,  3.3234e-02, -4.8334e-01,\n",
       "                       -8.4620e-01, -2.8849e-01,  1.6163e-01, -2.5274e-01, -5.3550e-02,\n",
       "                       -7.5537e-03,  5.4875e-01, -9.7539e-01,  1.3418e-01, -1.7338e-01,\n",
       "                       -1.7197e-01,  2.3014e-01, -5.8697e-01,  6.1253e-02, -8.6525e-01,\n",
       "                        1.9866e-01, -1.3059e-01, -1.0132e+00, -6.3428e-01,  2.5966e-01,\n",
       "                        1.4224e-01,  8.1598e-03, -6.4173e-01,  2.7759e-01,  1.6412e-01,\n",
       "                       -6.9785e-01, -1.7593e-01, -3.7645e-02, -7.4107e-01, -1.1719e-01,\n",
       "                        4.9849e-01, -1.8338e-01,  6.2888e-01,  1.2100e-01,  6.2373e-02,\n",
       "                        1.4240e-01, -1.5973e-01, -1.0597e+00,  6.7789e-01, -7.7971e-03,\n",
       "                        1.3605e-01, -4.8337e-01, -4.4347e-01, -3.6032e-01,  2.9446e-01,\n",
       "                       -1.1107e-01, -9.5078e-01,  4.4119e-01,  7.3438e-01, -1.0500e+00,\n",
       "                       -4.1371e-01, -5.0187e-01, -3.4507e-01, -9.1532e-01,  3.7887e-01,\n",
       "                       -8.6554e-02, -3.1299e-01,  3.8587e-01, -2.5540e-02],\n",
       "                      [ 1.1510e-01, -1.1706e+00, -3.0007e-01, -1.4130e-01, -3.0653e-01,\n",
       "                        3.4085e-02,  2.3132e-01,  2.1859e-02,  3.8778e-01, -1.6587e-01,\n",
       "                        2.8636e-01, -9.8550e-02, -5.4274e-01, -1.1604e-01,  4.9620e-02,\n",
       "                       -1.8160e-01, -4.3956e-01,  2.8275e-01,  3.9092e-01,  2.3948e-01,\n",
       "                        8.2579e-02, -9.8299e-01,  5.3807e-01,  4.7456e-01,  2.2002e-01,\n",
       "                        3.2411e-01, -1.1479e+00,  5.0005e-01,  3.6470e-01, -3.7647e-01,\n",
       "                        2.7254e-01,  4.5390e-02,  3.6718e-01, -8.2721e-03, -6.5723e-01,\n",
       "                        1.6777e-01, -4.8730e-01,  3.0590e-01, -9.9856e-02,  1.0530e-01,\n",
       "                        5.1645e-02,  5.1503e-01,  1.8387e-01, -2.4798e-01,  4.0302e-03,\n",
       "                       -2.5445e-01, -2.7967e-01, -7.8326e-01, -8.4945e-02,  3.2456e-01,\n",
       "                        5.1219e-02,  1.8223e-01, -4.0893e-01, -8.5068e-01, -2.0389e-01,\n",
       "                        3.1618e-01,  8.1480e-02, -1.5317e-01, -6.2589e-03,  5.4819e-01,\n",
       "                        4.4409e-02, -7.3185e-01,  3.3049e-01, -8.0922e-02],\n",
       "                      [ 1.7246e-01, -8.2396e-01,  2.2711e-01,  2.6986e-01, -4.9817e-01,\n",
       "                       -2.9800e-01,  1.4788e-01,  2.6129e-01,  4.0123e-01,  8.8348e-02,\n",
       "                       -5.2504e-02, -4.2764e-01,  3.9848e-01,  8.8276e-02, -8.0151e-01,\n",
       "                        3.9482e-01, -8.8953e-02,  6.4508e-02, -6.6750e-01, -2.6136e-01,\n",
       "                        2.3552e-01, -1.2795e-01, -4.6433e-01,  1.6633e-01, -9.8085e-01,\n",
       "                       -6.8846e-01, -2.9411e-01,  2.7751e-01,  5.5618e-02,  1.1645e-01,\n",
       "                        5.2586e-01, -5.5380e-03, -8.8311e-01,  7.6901e-02,  4.4206e-01,\n",
       "                        2.4667e-01,  1.0382e-01,  6.7248e-02,  9.5726e-02,  1.9349e-01,\n",
       "                        1.1129e-01, -1.3626e-01,  1.5719e-01, -5.5234e-01, -5.2332e-01,\n",
       "                        2.4220e-01, -4.1176e-01, -1.2597e-01,  2.0997e-01,  2.1665e-01,\n",
       "                        4.1073e-01,  3.7995e-01, -4.9443e-01,  1.1423e-01,  3.1720e-01,\n",
       "                        1.9590e-01, -5.6685e-01,  1.1079e-01, -7.2276e-01, -4.2463e-01,\n",
       "                       -1.0537e+00, -6.0029e-01, -5.5354e-02,  9.0775e-02],\n",
       "                      [ 2.7249e-01,  2.5989e-01, -3.4039e-01,  6.5869e-01,  8.6579e-01,\n",
       "                        2.2543e-01, -3.9133e-02,  4.2607e-01,  8.6881e-02, -1.7889e-01,\n",
       "                        6.0688e-02,  2.5121e-03,  1.1644e-01, -7.9442e-01,  1.7138e-01,\n",
       "                       -1.1430e-01,  2.4410e-01, -4.9551e-01,  2.6144e-01,  6.1743e-02,\n",
       "                       -2.7039e-01,  1.3966e-01,  1.8226e-02, -8.3690e-01,  6.2073e-02,\n",
       "                        9.4509e-02, -6.3994e-02, -5.9445e-01, -2.5096e-01,  4.3309e-01,\n",
       "                       -3.9916e-02, -2.9109e-01, -8.5893e-01,  1.6161e-01,  9.9746e-02,\n",
       "                        9.1035e-01, -4.1569e-01, -4.2971e-01,  3.4887e-01, -7.4436e-01,\n",
       "                       -5.6315e-01,  2.0350e-01, -5.4705e-01, -4.9896e-01,  2.0674e-01,\n",
       "                       -3.1200e-02,  1.4431e-01, -1.9753e-02, -6.6709e-01,  1.5714e-02,\n",
       "                       -6.0364e-03, -4.3106e-01,  2.7253e-01, -1.9770e-01,  2.5931e-01,\n",
       "                       -5.1982e-01,  5.2046e-01,  3.0491e-01,  3.3079e-01, -3.4369e-01,\n",
       "                        1.1342e-01,  4.9578e-01,  3.7019e-02, -4.4089e-01],\n",
       "                      [ 2.6471e-02, -3.6178e-01,  3.1467e-01, -8.2892e-01, -7.0239e-01,\n",
       "                        2.7714e-01,  2.1553e-01,  1.2978e-01,  1.3868e-01, -4.4371e-02,\n",
       "                       -6.4553e-02,  1.2587e-01, -1.4991e-01, -3.0353e-01,  3.2042e-01,\n",
       "                        2.9982e-01, -8.1014e-01, -3.7366e-03, -3.9659e-01, -9.4609e-01,\n",
       "                        1.3031e-01, -5.9080e-02, -3.6981e-02,  2.7322e-01,  6.8711e-02,\n",
       "                        1.9280e-02, -6.9897e-02, -4.2501e-01,  3.1912e-01, -2.0157e-01,\n",
       "                       -7.6735e-01,  1.3018e-01,  5.3122e-02, -2.7598e-01, -3.8829e-01,\n",
       "                       -5.8219e-01,  3.1829e-01, -4.9958e-01, -5.1916e-01,  1.6281e-01,\n",
       "                        2.5690e-01, -8.0108e-01,  2.1280e-01, -4.8952e-01, -7.6338e-02,\n",
       "                        2.2053e-01,  1.4870e-01, -3.7708e-01,  1.4765e-01,  2.4539e-01,\n",
       "                        1.4139e-01,  1.7098e-01, -3.3591e-01, -8.0370e-02, -5.0136e-01,\n",
       "                       -4.5631e-03, -3.4609e-01,  4.7570e-01,  1.9522e-01, -1.2465e+00,\n",
       "                        1.5001e-01, -2.9432e-01, -3.0237e-01,  1.9340e-01],\n",
       "                      [-9.6970e-01,  2.7674e-01,  2.3893e-01, -8.3470e-01, -1.1961e+00,\n",
       "                        7.0292e-02,  6.2417e-01, -4.0491e-01, -4.8934e-02,  1.6434e-01,\n",
       "                        1.5266e-01, -2.5027e-01,  2.8991e-01,  4.6108e-01, -8.8506e-02,\n",
       "                       -1.3477e-01,  3.6035e-01, -7.7622e-01,  1.3950e-01,  3.0911e-01,\n",
       "                        2.7728e-01,  2.5287e-01, -2.7724e-02, -5.1452e-02,  8.4186e-02,\n",
       "                       -1.0627e-01,  3.4708e-01,  1.8657e-02,  1.9737e-01,  5.1078e-02,\n",
       "                       -5.8793e-01, -1.4398e-01,  2.9046e-01,  1.6887e-01, -3.7126e-01,\n",
       "                       -6.0546e-01,  1.3396e-01, -3.8299e-01,  7.6774e-02, -3.1518e-01,\n",
       "                       -2.6912e-01,  3.0680e-01, -2.2953e-01, -4.8390e-01, -7.0927e-03,\n",
       "                       -1.0242e-01, -7.2282e-02,  1.9386e-01, -3.9486e-01, -1.0894e+00,\n",
       "                        2.4580e-01, -1.1102e-01,  3.4975e-01, -3.7167e-01, -3.0021e-01,\n",
       "                       -5.9844e-01, -4.6758e-01, -9.0813e-01,  1.5999e-01,  6.6300e-01,\n",
       "                        1.3439e-01, -2.6271e-01,  2.2109e-01,  1.9114e-01]], device='cuda:0')),\n",
       "             ('fc2.bias',\n",
       "              tensor([-0.3267,  0.1366,  0.0328, -0.1290, -0.1362,  0.2662, -0.1972,  0.1380,\n",
       "                      -0.0759, -0.0411], device='cuda:0'))])"
      ]
     },
     "execution_count": 13,
     "metadata": {},
     "output_type": "execute_result"
    }
   ],
   "source": [
    "# 查看神经网络参数和值的键值对\n",
    "best_model.state_dict()"
   ]
  },
  {
   "cell_type": "code",
   "execution_count": 14,
   "id": "2c883fbb",
   "metadata": {
    "collapsed": true,
    "jupyter": {
     "outputs_hidden": true
    }
   },
   "outputs": [],
   "source": [
    "# 将存储参数和值的键值对的有序字典转换为哈希表\n",
    "name_value_dict=dict(best_model.state_dict())"
   ]
  },
  {
   "cell_type": "code",
   "execution_count": 16,
   "id": "8c9aa96c",
   "metadata": {
    "collapsed": true,
    "jupyter": {
     "outputs_hidden": true
    }
   },
   "outputs": [
    {
     "data": {
      "text/plain": [
       "torch.Size([64, 784])"
      ]
     },
     "execution_count": 16,
     "metadata": {},
     "output_type": "execute_result"
    }
   ],
   "source": [
    "# 查看第一个全连接层权重张量的维度\n",
    "name_value_dict['fc1.weight'].shape "
   ]
  },
  {
   "cell_type": "code",
   "execution_count": 17,
   "id": "650399fb",
   "metadata": {
    "collapsed": true,
    "jupyter": {
     "outputs_hidden": true
    }
   },
   "outputs": [
    {
     "data": {
      "text/plain": [
       "50176"
      ]
     },
     "execution_count": 17,
     "metadata": {},
     "output_type": "execute_result"
    }
   ],
   "source": [
    "# 获得第一个全连接层权重张量的元素数量\n",
    "name_value_dict['fc1.weight'].numel()"
   ]
  },
  {
   "cell_type": "markdown",
   "id": "7610ec15",
   "metadata": {
    "jupyter": {
     "outputs_hidden": true
    }
   },
   "source": [
    "# 将模型参数提取为C/C++头文件"
   ]
  },
  {
   "cell_type": "code",
   "execution_count": 31,
   "id": "8d5ac2f8",
   "metadata": {},
   "outputs": [],
   "source": [
    "for key in name_value_dict:\n",
    "    length=name_value_dict[key].numel() # 获得每一个张量的元素数量作为数组大小\n",
    "    flattened_tensor=name_value_dict[key].flatten().tolist() #将高维张量类型数据展平为一维列表数据\n",
    "    key=key.replace(\".\",\"_\")\n",
    "    with open(key+\".h\",\"w\") as fw:\n",
    "        fw.write(\"double {}[{}] = {{{}}};\\n\".format(key,length,str(flattened_tensor).strip(\"[]\")))"
   ]
  },
  {
   "cell_type": "code",
   "execution_count": 19,
   "id": "93a316bd",
   "metadata": {
    "collapsed": true,
    "jupyter": {
     "outputs_hidden": true
    }
   },
   "outputs": [
    {
     "data": {
      "text/plain": [
       "tensor([[ 0.0178,  0.0287, -0.0187,  ...,  0.0194, -0.0052, -0.0057],\n",
       "        [-0.0235, -0.0194,  0.0319,  ...,  0.0261,  0.0152, -0.0233],\n",
       "        [-0.0305,  0.0227, -0.0342,  ...,  0.0221, -0.0182,  0.0337],\n",
       "        ...,\n",
       "        [ 0.0119,  0.0035, -0.0068,  ...,  0.0071,  0.0264,  0.0188],\n",
       "        [ 0.0082, -0.0258, -0.0171,  ...,  0.0027,  0.0207, -0.0112],\n",
       "        [-0.0096,  0.0233,  0.0208,  ...,  0.0128,  0.0138, -0.0294]],\n",
       "       device='cuda:0')"
      ]
     },
     "execution_count": 19,
     "metadata": {},
     "output_type": "execute_result"
    }
   ],
   "source": [
    "name_value_dict['fc1.weight']"
   ]
  },
  {
   "cell_type": "code",
   "execution_count": null,
   "id": "7b50de4f",
   "metadata": {},
   "outputs": [],
   "source": []
  }
 ],
 "metadata": {
  "kernelspec": {
   "display_name": "Python 3 (ipykernel)",
   "language": "python",
   "name": "python3"
  },
  "language_info": {
   "codemirror_mode": {
    "name": "ipython",
    "version": 3
   },
   "file_extension": ".py",
   "mimetype": "text/x-python",
   "name": "python",
   "nbconvert_exporter": "python",
   "pygments_lexer": "ipython3",
   "version": "3.7.11"
  },
  "toc-autonumbering": true,
  "toc-showmarkdowntxt": false,
  "toc-showtags": false
 },
 "nbformat": 4,
 "nbformat_minor": 5
}
